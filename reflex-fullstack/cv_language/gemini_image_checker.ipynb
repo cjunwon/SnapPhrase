{
 "cells": [
  {
   "cell_type": "code",
   "execution_count": 17,
   "metadata": {},
   "outputs": [],
   "source": [
    "from pathlib import Path\n",
    "import hashlib\n",
    "import google.generativeai as genai\n",
    "from dotenv import load_dotenv\n",
    "import os"
   ]
  },
  {
   "cell_type": "code",
   "execution_count": 18,
   "metadata": {},
   "outputs": [],
   "source": [
    "load_dotenv()\n",
    "GEMINI_API_KEY = os.getenv(\"GEMINI_API_KEY\")"
   ]
  },
  {
   "cell_type": "code",
   "execution_count": 19,
   "metadata": {},
   "outputs": [],
   "source": [
    "\n",
    "GAME_THEME = \"technology\" # Change this later to auto fetch based on GAME_KEY\n",
    "GAME_LANGUAGE = \"Arabic\""
   ]
  },
  {
   "cell_type": "code",
   "execution_count": 20,
   "metadata": {},
   "outputs": [],
   "source": [
    "genai.configure(api_key=GEMINI_API_KEY)\n",
    "\n",
    "# Set up the model\n",
    "generation_config = {\n",
    "  \"temperature\": 1,\n",
    "  \"top_p\": 0.95,\n",
    "  \"top_k\": 0,\n",
    "  \"max_output_tokens\": 8192,\n",
    "  \"response_mime_type\": \"application/json\",\n",
    "}\n",
    "\n",
    "safety_settings = [\n",
    "  {\n",
    "    \"category\": \"HARM_CATEGORY_HARASSMENT\",\n",
    "    \"threshold\": \"BLOCK_MEDIUM_AND_ABOVE\"\n",
    "  },\n",
    "  {\n",
    "    \"category\": \"HARM_CATEGORY_HATE_SPEECH\",\n",
    "    \"threshold\": \"BLOCK_MEDIUM_AND_ABOVE\"\n",
    "  },\n",
    "  {\n",
    "    \"category\": \"HARM_CATEGORY_SEXUALLY_EXPLICIT\",\n",
    "    \"threshold\": \"BLOCK_MEDIUM_AND_ABOVE\"\n",
    "  },\n",
    "  {\n",
    "    \"category\": \"HARM_CATEGORY_DANGEROUS_CONTENT\",\n",
    "    \"threshold\": \"BLOCK_MEDIUM_AND_ABOVE\"\n",
    "  },\n",
    "]\n",
    "\n",
    "model = genai.GenerativeModel(model_name=\"gemini-1.5-pro-latest\",\n",
    "                              generation_config=generation_config,\n",
    "                              safety_settings=safety_settings)\n"
   ]
  },
  {
   "cell_type": "code",
   "execution_count": 21,
   "metadata": {},
   "outputs": [],
   "source": [
    "uploaded_files = []\n",
    "def upload_if_needed(pathname: str) -> list[str]:\n",
    "  path = Path(pathname)\n",
    "  hash_id = hashlib.sha256(path.read_bytes()).hexdigest()\n",
    "  try:\n",
    "    existing_file = genai.get_file(name=hash_id)\n",
    "    return [existing_file]\n",
    "  except:\n",
    "    pass\n",
    "  uploaded_files.append(genai.upload_file(path=path, display_name=hash_id))\n",
    "  return [uploaded_files[-1]]"
   ]
  },
  {
   "cell_type": "code",
   "execution_count": 22,
   "metadata": {},
   "outputs": [],
   "source": [
    "path_of_image = '../assets/mouse_keyboard.jpg'\n",
    "\n",
    "prompt_parts = [\n",
    "  \"input:Tell me all the objects you see in this image and their confidence values and pixel coordinates, only if the confidence value is greater than 0.7 and if the object that fits best with the category: {GAME_THEME}.\",\n",
    "  *upload_if_needed(path_of_image),\n",
    "  \"output: \",\n",
    "]\n",
    "\n",
    "response = model.generate_content(prompt_parts)"
   ]
  },
  {
   "cell_type": "code",
   "execution_count": 23,
   "metadata": {},
   "outputs": [],
   "source": [
    "import json\n",
    "json_response = json.loads(response.parts[0].text)"
   ]
  },
  {
   "cell_type": "code",
   "execution_count": 24,
   "metadata": {},
   "outputs": [
    {
     "data": {
      "text/plain": [
       "[{'object': 'computer keyboard',\n",
       "  'confidence': 0.99,\n",
       "  'x_min': 126,\n",
       "  'x_max': 878,\n",
       "  'y_min': 281,\n",
       "  'y_max': 550},\n",
       " {'object': 'computer mouse',\n",
       "  'confidence': 0.99,\n",
       "  'x_min': 772,\n",
       "  'y_min': 605,\n",
       "  'x_max': 957,\n",
       "  'y_max': 760}]"
      ]
     },
     "execution_count": 24,
     "metadata": {},
     "output_type": "execute_result"
    }
   ],
   "source": [
    "json_response"
   ]
  },
  {
   "cell_type": "code",
   "execution_count": 25,
   "metadata": {},
   "outputs": [
    {
     "data": {
      "text/plain": [
       "{'object': 'computer keyboard',\n",
       " 'confidence': 0.99,\n",
       " 'x_min': 126,\n",
       " 'x_max': 878,\n",
       " 'y_min': 281,\n",
       " 'y_max': 550}"
      ]
     },
     "execution_count": 25,
     "metadata": {},
     "output_type": "execute_result"
    }
   ],
   "source": [
    "number_of_objects = len(json_response)\n",
    "\n",
    "import random\n",
    "picked_object = random.choice(json_response)\n",
    "picked_object"
   ]
  },
  {
   "cell_type": "code",
   "execution_count": 26,
   "metadata": {},
   "outputs": [
    {
     "data": {
      "text/plain": [
       "('computer keyboard', 502.0, 415.5)"
      ]
     },
     "execution_count": 26,
     "metadata": {},
     "output_type": "execute_result"
    }
   ],
   "source": [
    "picked_object_word = picked_object['object']\n",
    "picked_object_x_coordinate = (picked_object['x_max'] + picked_object['x_min']) / 2\n",
    "picked_object_y_coordinate = (picked_object['y_max'] + picked_object['y_min']) / 2\n",
    "\n",
    "picked_object_word, picked_object_x_coordinate, picked_object_y_coordinate"
   ]
  },
  {
   "cell_type": "code",
   "execution_count": 27,
   "metadata": {},
   "outputs": [],
   "source": [
    "# Set up the model\n",
    "image_checker_generation_config = {\n",
    "    \"temperature\": 1,\n",
    "    \"top_p\": 0.95,\n",
    "    \"top_k\": 0,\n",
    "    \"max_output_tokens\": 8192,\n",
    "    \"response_mime_type\": \"application/json\",\n",
    "}\n",
    "\n",
    "image_checker_model = genai.GenerativeModel(model_name=\"gemini-1.5-pro-latest\",\n",
    "                                            generation_config=image_checker_generation_config,\n",
    "                                            safety_settings=safety_settings)"
   ]
  },
  {
   "cell_type": "code",
   "execution_count": 32,
   "metadata": {},
   "outputs": [],
   "source": [
    "checker_prompt_parts = [\n",
    "  \"input: Tell me whether or not the word {picked_object_word} is related to the category of {GAME_THEME}. Limit your output to 'True' or 'False'.\",\n",
    "  \"output: \",\n",
    "]"
   ]
  },
  {
   "cell_type": "code",
   "execution_count": 33,
   "metadata": {},
   "outputs": [],
   "source": [
    "checker_response = image_checker_model.generate_content(checker_prompt_parts)"
   ]
  },
  {
   "cell_type": "code",
   "execution_count": 34,
   "metadata": {},
   "outputs": [],
   "source": [
    "checker_response_json_response = json.loads(checker_response.parts[0].text)"
   ]
  },
  {
   "cell_type": "code",
   "execution_count": 36,
   "metadata": {},
   "outputs": [
    {
     "data": {
      "text/plain": [
       "['False']"
      ]
     },
     "execution_count": 36,
     "metadata": {},
     "output_type": "execute_result"
    }
   ],
   "source": [
    "checker_response_json_response"
   ]
  },
  {
   "cell_type": "code",
   "execution_count": 35,
   "metadata": {},
   "outputs": [],
   "source": [
    "related_word_generator_prompt_parts = [\n",
    "  \"input: Give me 5 words related to the word {picked_object_word} and fall under the {GAME_THEME} category.\",\n",
    "  \"output: \",\n",
    "]"
   ]
  },
  {
   "cell_type": "code",
   "execution_count": 16,
   "metadata": {},
   "outputs": [],
   "source": [
    "related_word_generator_response = model.generate_content(related_word_generator_prompt_parts)"
   ]
  },
  {
   "cell_type": "code",
   "execution_count": 17,
   "metadata": {},
   "outputs": [],
   "source": [
    "related_word_generator_json_response = json.loads(related_word_generator_response.parts[0].text)"
   ]
  },
  {
   "cell_type": "code",
   "execution_count": 18,
   "metadata": {},
   "outputs": [
    {
     "data": {
      "text/plain": [
       "['pumpkin', 'costume', 'haunted', 'candy', 'spooky']"
      ]
     },
     "execution_count": 18,
     "metadata": {},
     "output_type": "execute_result"
    }
   ],
   "source": [
    "related_word_generator_json_response"
   ]
  },
  {
   "cell_type": "code",
   "execution_count": 1,
   "metadata": {},
   "outputs": [],
   "source": [
    "from googletrans import Translator\n",
    "translator = Translator()"
   ]
  },
  {
   "cell_type": "code",
   "execution_count": 26,
   "metadata": {},
   "outputs": [],
   "source": [
    "translated_picked_object_word = translator.translate(picked_object_word, dest=GAME_LANGUAGE).text\n",
    "translated_related_words = [translator.translate(word, dest=GAME_LANGUAGE).text for word in related_word_generator_json_response]\n",
    "\n",
    "translated_related_word1 = translated_related_words[0]\n",
    "translated_related_word2 = translated_related_words[1]\n",
    "translated_related_word3 = translated_related_words[2]\n",
    "translated_related_word4 = translated_related_words[3]\n",
    "translated_related_word5 = translated_related_words[4]"
   ]
  },
  {
   "cell_type": "code",
   "execution_count": 28,
   "metadata": {},
   "outputs": [
    {
     "data": {
      "text/plain": [
       "'يقطين'"
      ]
     },
     "execution_count": 28,
     "metadata": {},
     "output_type": "execute_result"
    }
   ],
   "source": [
    "translated_related_word1"
   ]
  }
 ],
 "metadata": {
  "kernelspec": {
   "display_name": "base",
   "language": "python",
   "name": "python3"
  },
  "language_info": {
   "codemirror_mode": {
    "name": "ipython",
    "version": 3
   },
   "file_extension": ".py",
   "mimetype": "text/x-python",
   "name": "python",
   "nbconvert_exporter": "python",
   "pygments_lexer": "ipython3",
   "version": "3.10.2"
  }
 },
 "nbformat": 4,
 "nbformat_minor": 2
}
